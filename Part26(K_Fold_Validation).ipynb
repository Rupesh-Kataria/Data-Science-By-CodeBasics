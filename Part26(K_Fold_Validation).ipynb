{
  "nbformat": 4,
  "nbformat_minor": 0,
  "metadata": {
    "colab": {
      "name": "Part26(K Fold Validation).ipynb",
      "provenance": [],
      "collapsed_sections": [],
      "authorship_tag": "ABX9TyPB7rLm5ik7oERkrErn2p/4",
      "include_colab_link": true
    },
    "kernelspec": {
      "name": "python3",
      "display_name": "Python 3"
    },
    "language_info": {
      "name": "python"
    }
  },
  "cells": [
    {
      "cell_type": "markdown",
      "metadata": {
        "id": "view-in-github",
        "colab_type": "text"
      },
      "source": [
        "<a href=\"https://colab.research.google.com/github/Rupesh-Kataria/Data-Science-By-CodeBasics/blob/main/Part26(K_Fold_Validation).ipynb\" target=\"_parent\"><img src=\"https://colab.research.google.com/assets/colab-badge.svg\" alt=\"Open In Colab\"/></a>"
      ]
    },
    {
      "cell_type": "code",
      "execution_count": 60,
      "metadata": {
        "id": "DLisvqsc8E3d"
      },
      "outputs": [],
      "source": [
        "from sklearn.linear_model import LogisticRegression\n",
        "from sklearn.svm import SVC\n",
        "from sklearn.ensemble import RandomForestClassifier\n",
        "import numpy as np\n",
        "from sklearn.datasets import load_digits\n",
        "digits=load_digits()"
      ]
    },
    {
      "cell_type": "code",
      "source": [
        "from sklearn.model_selection import train_test_split\n",
        "X_train,X_test,y_train,y_test=train_test_split(digits.data,digits.target,test_size=0.3)"
      ],
      "metadata": {
        "id": "AQ9fV_-o8qcm"
      },
      "execution_count": 61,
      "outputs": []
    },
    {
      "cell_type": "code",
      "source": [
        "lr=LogisticRegression(max_iter=10000)\n",
        "lr.fit(X_train,y_train)\n",
        "lr.score(X_test,y_test)"
      ],
      "metadata": {
        "colab": {
          "base_uri": "https://localhost:8080/"
        },
        "id": "ZAxQFdH99XgS",
        "outputId": "5e6522a6-ad3f-4e3b-e3e2-abd31ad2de44"
      },
      "execution_count": 62,
      "outputs": [
        {
          "output_type": "execute_result",
          "data": {
            "text/plain": [
              "0.9611111111111111"
            ]
          },
          "metadata": {},
          "execution_count": 62
        }
      ]
    },
    {
      "cell_type": "code",
      "source": [
        "svm=SVC()\n",
        "svm.fit(X_train,y_train)\n",
        "svm.score(X_test,y_test)"
      ],
      "metadata": {
        "colab": {
          "base_uri": "https://localhost:8080/"
        },
        "id": "3PRDXnD79qoh",
        "outputId": "d71ed8d4-300c-417f-8c1f-660804c8af49"
      },
      "execution_count": 63,
      "outputs": [
        {
          "output_type": "execute_result",
          "data": {
            "text/plain": [
              "0.9851851851851852"
            ]
          },
          "metadata": {},
          "execution_count": 63
        }
      ]
    },
    {
      "cell_type": "code",
      "source": [
        "rf=RandomForestClassifier(n_estimators=40)\n",
        "rf.fit(X_train,y_train)\n",
        "rf.score(X_test,y_test)"
      ],
      "metadata": {
        "colab": {
          "base_uri": "https://localhost:8080/"
        },
        "id": "mhv1uZDQIDr-",
        "outputId": "8a4aa90a-644b-4b03-e721-b2cdf8d6ffe2"
      },
      "execution_count": 64,
      "outputs": [
        {
          "output_type": "execute_result",
          "data": {
            "text/plain": [
              "0.9685185185185186"
            ]
          },
          "metadata": {},
          "execution_count": 64
        }
      ]
    },
    {
      "cell_type": "code",
      "source": [
        "#the performance of the every model changes after every run because of varying of training and test data\n",
        "#So running one time and saying that particular model is better is not right thing\n",
        "#So we use k fold api to demonstrate\n",
        "from sklearn.model_selection import KFold\n",
        "kf=KFold(n_splits=4)#here you can specify how much fold do you want to create\n",
        "kf"
      ],
      "metadata": {
        "colab": {
          "base_uri": "https://localhost:8080/"
        },
        "id": "8pz5K4pCIbkJ",
        "outputId": "f390e789-4ac4-4ff4-ca3f-f028998a0393"
      },
      "execution_count": 65,
      "outputs": [
        {
          "output_type": "execute_result",
          "data": {
            "text/plain": [
              "KFold(n_splits=4, random_state=None, shuffle=False)"
            ]
          },
          "metadata": {},
          "execution_count": 65
        }
      ]
    },
    {
      "cell_type": "code",
      "source": [
        "for train_index,test_index in kf.split([1,2,3,4,5,6,7,8,9]):\n",
        "  print(train_index,test_index)"
      ],
      "metadata": {
        "colab": {
          "base_uri": "https://localhost:8080/"
        },
        "id": "_uxRSKnmKH07",
        "outputId": "fa74551d-ac71-464c-a21b-cb276905d965"
      },
      "execution_count": 66,
      "outputs": [
        {
          "output_type": "stream",
          "name": "stdout",
          "text": [
            "[3 4 5 6 7 8] [0 1 2]\n",
            "[0 1 2 5 6 7 8] [3 4]\n",
            "[0 1 2 3 4 7 8] [5 6]\n",
            "[0 1 2 3 4 5 6] [7 8]\n"
          ]
        }
      ]
    },
    {
      "cell_type": "code",
      "source": [
        "def get_score(model,X_train,X_test,y_train,y_test):    #this method is used to calculate score like above but we do not need to write it again and again\n",
        "     model.fit(X_train,y_train)\n",
        "     return model.score(X_test,y_test)"
      ],
      "metadata": {
        "id": "bQXlEkoZJWlK"
      },
      "execution_count": 67,
      "outputs": []
    },
    {
      "cell_type": "code",
      "source": [
        "get_score(SVC(),X_train,X_test,y_train,y_test)"
      ],
      "metadata": {
        "colab": {
          "base_uri": "https://localhost:8080/"
        },
        "id": "PUA47rMqMUvl",
        "outputId": "bafc2e7b-0cf0-4954-c208-026783342cc0"
      },
      "execution_count": 68,
      "outputs": [
        {
          "output_type": "execute_result",
          "data": {
            "text/plain": [
              "0.9851851851851852"
            ]
          },
          "metadata": {},
          "execution_count": 68
        }
      ]
    },
    {
      "cell_type": "code",
      "source": [
        "#stratifiedKFold is same as k FOLD but it is better out when we you sepaarating the fold it will divide each of the classification categorically in uniform way\n",
        "from sklearn.model_selection import StratifiedKFold\n",
        "folds=StratifiedKFold(n_splits=3)"
      ],
      "metadata": {
        "id": "HTjUVcvOM0TW"
      },
      "execution_count": 69,
      "outputs": []
    },
    {
      "cell_type": "code",
      "source": [
        "scores_l=[]    #scores of logistic regression\n",
        "scores_svm=[]\n",
        "scores_rf=[]\n",
        "for train_index,test_index in kf.split(digits.data):\n",
        "     X_train,X_test,y_train,y_test= digits.data[train_index],digits.data[test_index], digits.target[train_index],digits.target[test_index]\n",
        "     scores_l.append(get_score(LogisticRegression(max_iter=10000),X_train,X_test,y_train,y_test))\n",
        "     scores_svm.append(get_score(SVC(),X_train,X_test,y_train,y_test))\n",
        "     scores_rf.append(get_score(RandomForestClassifier(n_estimators=40),X_train,X_test,y_train,y_test))\n"
      ],
      "metadata": {
        "id": "mqbK4G-iOwGO"
      },
      "execution_count": 80,
      "outputs": []
    },
    {
      "cell_type": "code",
      "source": [
        "scores_l"
      ],
      "metadata": {
        "colab": {
          "base_uri": "https://localhost:8080/"
        },
        "id": "zdfXrtzqZM0t",
        "outputId": "919585c3-d166-472d-c560-c896ba8c7d7f"
      },
      "execution_count": 81,
      "outputs": [
        {
          "output_type": "execute_result",
          "data": {
            "text/plain": [
              "[0.9355555555555556, 0.9242761692650334, 0.955456570155902, 0.9198218262806236]"
            ]
          },
          "metadata": {},
          "execution_count": 81
        }
      ]
    },
    {
      "cell_type": "code",
      "source": [
        "scores_svm"
      ],
      "metadata": {
        "colab": {
          "base_uri": "https://localhost:8080/"
        },
        "id": "GNxTAg9iZRlb",
        "outputId": "0639f0e2-cfa2-479a-a578-247a21587ae0"
      },
      "execution_count": 83,
      "outputs": [
        {
          "output_type": "execute_result",
          "data": {
            "text/plain": [
              "[0.9644444444444444,\n",
              " 0.9665924276169265,\n",
              " 0.9821826280623608,\n",
              " 0.9487750556792873]"
            ]
          },
          "metadata": {},
          "execution_count": 83
        }
      ]
    },
    {
      "cell_type": "code",
      "source": [
        "scores_rf"
      ],
      "metadata": {
        "colab": {
          "base_uri": "https://localhost:8080/"
        },
        "id": "zn6JLeUhZVLq",
        "outputId": "a5a2be72-3acc-46a5-e488-00c060a64da9"
      },
      "execution_count": 84,
      "outputs": [
        {
          "output_type": "execute_result",
          "data": {
            "text/plain": [
              "[0.9311111111111111,\n",
              " 0.9153674832962138,\n",
              " 0.9510022271714922,\n",
              " 0.9287305122494433]"
            ]
          },
          "metadata": {},
          "execution_count": 84
        }
      ]
    },
    {
      "cell_type": "code",
      "source": [
        "#Baed on the above we can see svm is better\n",
        "#We can also do the above thing using cross_val_scores\n",
        "from sklearn.model_selection import cross_val_score\n",
        "cross_val_score(LogisticRegression(max_iter=10000),digits.data,digits.target)"
      ],
      "metadata": {
        "colab": {
          "base_uri": "https://localhost:8080/"
        },
        "id": "qP7UWpuWZ4Hs",
        "outputId": "8f78f4db-9442-4d6e-ce8c-09aa0bb55ad3"
      },
      "execution_count": 86,
      "outputs": [
        {
          "output_type": "execute_result",
          "data": {
            "text/plain": [
              "array([0.925     , 0.87777778, 0.93871866, 0.93314763, 0.89693593])"
            ]
          },
          "metadata": {},
          "execution_count": 86
        }
      ]
    },
    {
      "cell_type": "code",
      "source": [
        "cross_val_score(SVC(),digits.data,digits.target)"
      ],
      "metadata": {
        "colab": {
          "base_uri": "https://localhost:8080/"
        },
        "id": "tCIDezQ8a2RT",
        "outputId": "511b1e1f-9b42-4de8-8e31-1ddef33c407e"
      },
      "execution_count": 88,
      "outputs": [
        {
          "output_type": "execute_result",
          "data": {
            "text/plain": [
              "array([0.96111111, 0.94444444, 0.98328691, 0.98885794, 0.93871866])"
            ]
          },
          "metadata": {},
          "execution_count": 88
        }
      ]
    },
    {
      "cell_type": "code",
      "source": [
        "cross_val_score(RandomForestClassifier(n_estimators=5),digits.data,digits.target) #we can compare same classifier  with different parameter that is parameter tunning \n",
        "#cross_validation technique is useful it allow you to compare different classifier and same classifier also with different parameter "
      ],
      "metadata": {
        "colab": {
          "base_uri": "https://localhost:8080/"
        },
        "id": "ynBKm6uVb2Gi",
        "outputId": "73b4b553-04b2-4b52-edb6-e6fba43ff6dd"
      },
      "execution_count": 89,
      "outputs": [
        {
          "output_type": "execute_result",
          "data": {
            "text/plain": [
              "array([0.82777778, 0.78611111, 0.87743733, 0.87743733, 0.86350975])"
            ]
          },
          "metadata": {},
          "execution_count": 89
        }
      ]
    },
    {
      "cell_type": "code",
      "source": [
        "cross_val_score(RandomForestClassifier(n_estimators=15),digits.data,digits.target)"
      ],
      "metadata": {
        "colab": {
          "base_uri": "https://localhost:8080/"
        },
        "id": "t6KdqgTocBoj",
        "outputId": "dd85b2e1-af9f-45f3-bab7-17a7a9d691f7"
      },
      "execution_count": 90,
      "outputs": [
        {
          "output_type": "execute_result",
          "data": {
            "text/plain": [
              "array([0.91111111, 0.87222222, 0.92200557, 0.9275766 , 0.89693593])"
            ]
          },
          "metadata": {},
          "execution_count": 90
        }
      ]
    }
  ]
}