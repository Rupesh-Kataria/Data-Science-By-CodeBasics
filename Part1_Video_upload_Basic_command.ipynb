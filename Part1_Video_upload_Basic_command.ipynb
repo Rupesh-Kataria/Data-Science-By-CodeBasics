{
 "cells": [
  {
   "cell_type": "markdown",
   "id": "49c7e7a0",
   "metadata": {},
   "source": [
    "## In this we learn how to embedded videos and to use some basic features ."
   ]
  },
  {
   "cell_type": "markdown",
   "id": "229ec27e",
   "metadata": {},
   "source": [
    "\n",
    "<img src= \"https://miro.medium.com/max/1050/1*Kewz0xLvwocuc8INzphzmA.jpeg\" style =\"width:400px;height:80px;\">\n",
    "# <font color ='red'> pandas Tutorial On Stock Price Analysis </font>"
   ]
  },
  {
   "cell_type": "code",
   "execution_count": 17,
   "id": "774593ea",
   "metadata": {},
   "outputs": [
    {
     "data": {
      "text/html": [
       "<iframe width=\"560\" height=\"315\" src=\"https://www.youtube.com/embed/HYSsMgJu4YM\" title=\"YouTube video player\" frameborder=\"0\" allow=\"accelerometer; autoplay; clipboard-write; encrypted-media; gyroscope; picture-in-picture\" allowfullscreen></iframe>\n"
      ],
      "text/plain": [
       "<IPython.core.display.HTML object>"
      ]
     },
     "metadata": {},
     "output_type": "display_data"
    }
   ],
   "source": [
    "%%HTML\n",
    "<iframe width=\"560\" height=\"315\" src=\"https://www.youtube.com/embed/HYSsMgJu4YM\" title=\"YouTube video player\" frameborder=\"0\" allow=\"accelerometer; autoplay; clipboard-write; encrypted-media; gyroscope; picture-in-picture\" allowfullscreen></iframe>"
   ]
  },
  {
   "cell_type": "code",
   "execution_count": 7,
   "id": "c49e4330",
   "metadata": {},
   "outputs": [
    {
     "data": {
      "application/json": {
       "cell": {
        "!": "OSMagics",
        "HTML": "Other",
        "SVG": "Other",
        "bash": "Other",
        "capture": "ExecutionMagics",
        "cmd": "Other",
        "debug": "ExecutionMagics",
        "file": "Other",
        "html": "DisplayMagics",
        "javascript": "DisplayMagics",
        "js": "DisplayMagics",
        "latex": "DisplayMagics",
        "markdown": "DisplayMagics",
        "perl": "Other",
        "prun": "ExecutionMagics",
        "pypy": "Other",
        "python": "Other",
        "python2": "Other",
        "python3": "Other",
        "ruby": "Other",
        "script": "ScriptMagics",
        "sh": "Other",
        "svg": "DisplayMagics",
        "sx": "OSMagics",
        "system": "OSMagics",
        "time": "ExecutionMagics",
        "timeit": "ExecutionMagics",
        "writefile": "OSMagics"
       },
       "line": {
        "alias": "OSMagics",
        "alias_magic": "BasicMagics",
        "autoawait": "AsyncMagics",
        "autocall": "AutoMagics",
        "automagic": "AutoMagics",
        "autosave": "KernelMagics",
        "bookmark": "OSMagics",
        "cd": "OSMagics",
        "clear": "KernelMagics",
        "cls": "KernelMagics",
        "colors": "BasicMagics",
        "conda": "PackagingMagics",
        "config": "ConfigMagics",
        "connect_info": "KernelMagics",
        "copy": "Other",
        "ddir": "Other",
        "debug": "ExecutionMagics",
        "dhist": "OSMagics",
        "dirs": "OSMagics",
        "doctest_mode": "BasicMagics",
        "echo": "Other",
        "ed": "Other",
        "edit": "KernelMagics",
        "env": "OSMagics",
        "gui": "BasicMagics",
        "hist": "Other",
        "history": "HistoryMagics",
        "killbgscripts": "ScriptMagics",
        "ldir": "Other",
        "less": "KernelMagics",
        "load": "CodeMagics",
        "load_ext": "ExtensionMagics",
        "loadpy": "CodeMagics",
        "logoff": "LoggingMagics",
        "logon": "LoggingMagics",
        "logstart": "LoggingMagics",
        "logstate": "LoggingMagics",
        "logstop": "LoggingMagics",
        "ls": "Other",
        "lsmagic": "BasicMagics",
        "macro": "ExecutionMagics",
        "magic": "BasicMagics",
        "matplotlib": "PylabMagics",
        "mkdir": "Other",
        "more": "KernelMagics",
        "notebook": "BasicMagics",
        "page": "BasicMagics",
        "pastebin": "CodeMagics",
        "pdb": "ExecutionMagics",
        "pdef": "NamespaceMagics",
        "pdoc": "NamespaceMagics",
        "pfile": "NamespaceMagics",
        "pinfo": "NamespaceMagics",
        "pinfo2": "NamespaceMagics",
        "pip": "PackagingMagics",
        "popd": "OSMagics",
        "pprint": "BasicMagics",
        "precision": "BasicMagics",
        "prun": "ExecutionMagics",
        "psearch": "NamespaceMagics",
        "psource": "NamespaceMagics",
        "pushd": "OSMagics",
        "pwd": "OSMagics",
        "pycat": "OSMagics",
        "pylab": "PylabMagics",
        "qtconsole": "KernelMagics",
        "quickref": "BasicMagics",
        "recall": "HistoryMagics",
        "rehashx": "OSMagics",
        "reload_ext": "ExtensionMagics",
        "ren": "Other",
        "rep": "Other",
        "rerun": "HistoryMagics",
        "reset": "NamespaceMagics",
        "reset_selective": "NamespaceMagics",
        "rmdir": "Other",
        "run": "ExecutionMagics",
        "save": "CodeMagics",
        "sc": "OSMagics",
        "set_env": "OSMagics",
        "store": "StoreMagics",
        "sx": "OSMagics",
        "system": "OSMagics",
        "tb": "ExecutionMagics",
        "time": "ExecutionMagics",
        "timeit": "ExecutionMagics",
        "unalias": "OSMagics",
        "unload_ext": "ExtensionMagics",
        "who": "NamespaceMagics",
        "who_ls": "NamespaceMagics",
        "whos": "NamespaceMagics",
        "xdel": "NamespaceMagics",
        "xmode": "BasicMagics"
       }
      },
      "text/plain": [
       "Available line magics:\n",
       "%alias  %alias_magic  %autoawait  %autocall  %automagic  %autosave  %bookmark  %cd  %clear  %cls  %colors  %conda  %config  %connect_info  %copy  %ddir  %debug  %dhist  %dirs  %doctest_mode  %echo  %ed  %edit  %env  %gui  %hist  %history  %killbgscripts  %ldir  %less  %load  %load_ext  %loadpy  %logoff  %logon  %logstart  %logstate  %logstop  %ls  %lsmagic  %macro  %magic  %matplotlib  %mkdir  %more  %notebook  %page  %pastebin  %pdb  %pdef  %pdoc  %pfile  %pinfo  %pinfo2  %pip  %popd  %pprint  %precision  %prun  %psearch  %psource  %pushd  %pwd  %pycat  %pylab  %qtconsole  %quickref  %recall  %rehashx  %reload_ext  %ren  %rep  %rerun  %reset  %reset_selective  %rmdir  %run  %save  %sc  %set_env  %store  %sx  %system  %tb  %time  %timeit  %unalias  %unload_ext  %who  %who_ls  %whos  %xdel  %xmode\n",
       "\n",
       "Available cell magics:\n",
       "%%!  %%HTML  %%SVG  %%bash  %%capture  %%cmd  %%debug  %%file  %%html  %%javascript  %%js  %%latex  %%markdown  %%perl  %%prun  %%pypy  %%python  %%python2  %%python3  %%ruby  %%script  %%sh  %%svg  %%sx  %%system  %%time  %%timeit  %%writefile\n",
       "\n",
       "Automagic is ON, % prefix IS NOT needed for line magics."
      ]
     },
     "execution_count": 7,
     "metadata": {},
     "output_type": "execute_result"
    }
   ],
   "source": [
    "%lsmagic   #To see the list of all line magic and cell magic\n"
   ]
  },
  {
   "cell_type": "code",
   "execution_count": 8,
   "id": "717e7e53",
   "metadata": {},
   "outputs": [],
   "source": [
    "%time?           #to know the working of this feature"
   ]
  },
  {
   "cell_type": "code",
   "execution_count": 9,
   "id": "545e42b0",
   "metadata": {},
   "outputs": [
    {
     "name": "stdout",
     "output_type": "stream",
     "text": [
      "Wall time: 3.94 ms\n"
     ]
    }
   ],
   "source": [
    "%time for i in range(10000): i*i   #time taken in execution of this loop"
   ]
  },
  {
   "cell_type": "code",
   "execution_count": 11,
   "id": "8dd7b96a",
   "metadata": {},
   "outputs": [
    {
     "data": {
      "text/plain": [
       "['C:\\\\Users\\\\hp']"
      ]
     },
     "execution_count": 11,
     "metadata": {},
     "output_type": "execute_result"
    }
   ],
   "source": [
    "%system cd #to know working directory in windows in linux we use pwd that is present working directory"
   ]
  },
  {
   "cell_type": "code",
   "execution_count": 13,
   "id": "73f8d95f",
   "metadata": {},
   "outputs": [
    {
     "data": {
      "text/plain": [
       "[' Volume in drive C is Windows',\n",
       " ' Volume Serial Number is A0E9-6CE0',\n",
       " '',\n",
       " ' Directory of C:\\\\Users\\\\hp',\n",
       " '',\n",
       " '15-06-2022  10:39    <DIR>          .',\n",
       " '15-06-2022  10:39    <DIR>          ..',\n",
       " '12-06-2022  19:56    <DIR>          .android',\n",
       " '13-04-2022  02:45             3,657 .bash_history',\n",
       " '29-07-2021  22:52    <DIR>          .cache',\n",
       " '29-07-2021  22:52    <DIR>          .eclipse',\n",
       " '29-05-2022  15:57                16 .emulator_console_auth_token',\n",
       " '08-04-2022  14:25                57 .gitconfig',\n",
       " '20-05-2022  00:26    <DIR>          .gradle',\n",
       " '14-06-2022  22:52    <DIR>          .idea',\n",
       " '14-06-2022  10:26    <DIR>          .idlerc',\n",
       " '15-06-2022  09:57    <DIR>          .ipynb_checkpoints',\n",
       " '14-01-2022  09:25    <DIR>          .ipython',\n",
       " '14-01-2022  09:25    <DIR>          .jupyter',\n",
       " '09-04-2022  18:20                20 .lesshst',\n",
       " '29-05-2022  14:49    <DIR>          .m2',\n",
       " '10-01-2022  22:38    <DIR>          .matplotlib',\n",
       " '11-01-2021  18:39    <DIR>          .node-red',\n",
       " '06-01-2021  00:29                 0 .node_repl_history',\n",
       " '13-06-2022  16:46    <DIR>          .p2',\n",
       " '08-04-2022  14:59             1,112 .viminfo',\n",
       " '23-12-2021  19:33    <DIR>          .vscode',\n",
       " '30-11-2020  02:13    <DIR>          3D Objects',\n",
       " '14-01-2022  00:38    <DIR>          anaconda3',\n",
       " '12-06-2022  23:01    <DIR>          AndroidStudioProjects',\n",
       " '18-08-2021  14:19               151 BullseyeCoverageError.txt',\n",
       " '03-04-2021  15:02    <DIR>          CLionProjects',\n",
       " '30-11-2020  02:13    <DIR>          Contacts',\n",
       " '14-01-2022  16:30            34,058 data.csv',\n",
       " '02-12-2020  22:03    <JUNCTION>     Desktop [\\\\??\\\\C:\\\\Users\\\\hp\\\\Dropbox\\\\My PC (DESKTOP-PG6R28R)\\\\Desktop]',\n",
       " '25-01-2022  21:58            87,676 Document from Rupesh Kataria',\n",
       " '12-10-2021  08:36    <DIR>          Documents',\n",
       " '02-12-2020  22:03    <JUNCTION>     Downloads [\\\\??\\\\C:\\\\Users\\\\hp\\\\Dropbox\\\\My PC (DESKTOP-PG6R28R)\\\\Downloads]',\n",
       " '15-01-2022  00:04         3,027,466 Dragon.joblib',\n",
       " '04-12-2020  17:59    <DIR>          Dropbox',\n",
       " '28-05-2022  12:20    <DIR>          eclipse',\n",
       " '30-07-2021  17:12    <DIR>          eclipse-workspace',\n",
       " '30-11-2020  02:13    <DIR>          Favorites',\n",
       " '14-06-2022  15:03               356 for.py',\n",
       " '14-06-2022  15:47               443 function.py',\n",
       " '14-10-2021  06:06    <DIR>          Google Drive',\n",
       " '14-06-2022  12:56                54 hello.py',\n",
       " '14-06-2022  13:37               601 if.py',\n",
       " '14-01-2022  00:50                 0 jupyter',\n",
       " '17-01-2021  08:39    <DIR>          Links',\n",
       " '16-01-2022  18:29           310,550 MachineLearning5.ipynb',\n",
       " '14-06-2022  16:28                 0 mod',\n",
       " '15-01-2022  00:19             1,531 Model Usage.ipynb',\n",
       " '14-06-2022  16:29                 0 module.py',\n",
       " '20-02-2021  19:22    <DIR>          Music',\n",
       " '23-12-2021  21:19             1,148 new.html',\n",
       " '14-06-2022  16:29    <DIR>          nothing',\n",
       " '28-04-2022  21:36    <DIR>          OneDrive',\n",
       " '20-02-2021  19:22    <DIR>          Pictures',\n",
       " '09-06-2022  10:34    <DIR>          Postman',\n",
       " '13-01-2022  14:30    <DIR>          PycharmProjects',\n",
       " '14-06-2022  23:36    <DIR>          Rupesh',\n",
       " '30-11-2020  02:13    <DIR>          Saved Games',\n",
       " '03-12-2021  11:51    <DIR>          Searches',\n",
       " '09-03-2022  15:58            96,591 Time.ipynb',\n",
       " '09-03-2022  23:40           392,094 Time_Series_Data (2).ipynb',\n",
       " '09-03-2022  23:40           912,196 Time_series_per _warehouse.ipynb',\n",
       " '01-03-2022  02:17           206,874 Train_data.xlsx',\n",
       " '03-03-2022  10:37           146,113 Train_data.xlsx - Final.csv',\n",
       " '10-03-2022  00:05            45,754 unknown.ipynb',\n",
       " '15-01-2022  00:07                72 Untitled.ipynb',\n",
       " '25-01-2022  21:45             3,315 Untitled1.ipynb',\n",
       " '09-03-2022  23:59            18,929 Untitled10.ipynb',\n",
       " '15-06-2022  10:39             7,559 Untitled11.ipynb',\n",
       " '17-02-2022  09:22             1,478 Untitled2.ipynb',\n",
       " '22-02-2022  13:14             1,344 Untitled3.ipynb',\n",
       " '24-02-2022  12:14             3,138 Untitled4.ipynb',\n",
       " '01-03-2022  03:52            88,333 Untitled5-Copy1.ipynb',\n",
       " '01-03-2022  03:52            88,333 Untitled5.ipynb',\n",
       " '02-03-2022  23:04            25,194 Untitled6.ipynb',\n",
       " '03-03-2022  10:38               588 Untitled7.ipynb',\n",
       " '03-03-2022  10:46            58,063 Untitled8.ipynb',\n",
       " '03-03-2022  11:38            14,106 Untitled9.ipynb',\n",
       " '14-06-2022  12:44    <DIR>          venv',\n",
       " '27-03-2021  10:50    <DIR>          Videos',\n",
       " '09-03-2022  20:17           819,394 warehouse1.csv',\n",
       " '09-03-2022  20:18           738,401 warehouse2.csv',\n",
       " '09-03-2022  20:18           975,888 warehouse3.csv',\n",
       " '09-03-2022  20:19           906,260 warehouse4.csv',\n",
       " '29-07-2021  11:49    <DIR>          workspace',\n",
       " '14-06-2022  22:49    <DIR>          Z',\n",
       " '              43 File(s)      9,018,913 bytes',\n",
       " '              43 Dir(s)  293,243,629,568 bytes free']"
      ]
     },
     "execution_count": 13,
     "metadata": {},
     "output_type": "execute_result"
    }
   ],
   "source": [
    "%system dir #this show the list of all file inside our working directory  for linus we use ls command instead of dir"
   ]
  },
  {
   "cell_type": "code",
   "execution_count": 14,
   "id": "cfcd77eb",
   "metadata": {},
   "outputs": [
    {
     "name": "stdout",
     "output_type": "stream",
     "text": [
      " Volume in drive C is Windows\n",
      " Volume Serial Number is A0E9-6CE0\n",
      "\n",
      " Directory of C:\\Users\\hp\n",
      "\n",
      "15-06-2022  10:41    <DIR>          .\n",
      "15-06-2022  10:41    <DIR>          ..\n",
      "12-06-2022  19:56    <DIR>          .android\n",
      "13-04-2022  02:45             3,657 .bash_history\n",
      "29-07-2021  22:52    <DIR>          .cache\n",
      "29-07-2021  22:52    <DIR>          .eclipse\n",
      "29-05-2022  15:57                16 .emulator_console_auth_token\n",
      "08-04-2022  14:25                57 .gitconfig\n",
      "20-05-2022  00:26    <DIR>          .gradle\n",
      "14-06-2022  22:52    <DIR>          .idea\n",
      "14-06-2022  10:26    <DIR>          .idlerc\n",
      "15-06-2022  09:57    <DIR>          .ipynb_checkpoints\n",
      "14-01-2022  09:25    <DIR>          .ipython\n",
      "14-01-2022  09:25    <DIR>          .jupyter\n",
      "09-04-2022  18:20                20 .lesshst\n",
      "29-05-2022  14:49    <DIR>          .m2\n",
      "10-01-2022  22:38    <DIR>          .matplotlib\n",
      "11-01-2021  18:39    <DIR>          .node-red\n",
      "06-01-2021  00:29                 0 .node_repl_history\n",
      "13-06-2022  16:46    <DIR>          .p2\n",
      "08-04-2022  14:59             1,112 .viminfo\n",
      "23-12-2021  19:33    <DIR>          .vscode\n",
      "30-11-2020  02:13    <DIR>          3D Objects\n",
      "14-01-2022  00:38    <DIR>          anaconda3\n",
      "12-06-2022  23:01    <DIR>          AndroidStudioProjects\n",
      "18-08-2021  14:19               151 BullseyeCoverageError.txt\n",
      "03-04-2021  15:02    <DIR>          CLionProjects\n",
      "30-11-2020  02:13    <DIR>          Contacts\n",
      "14-01-2022  16:30            34,058 data.csv\n",
      "02-12-2020  22:03    <JUNCTION>     Desktop [\\??\\C:\\Users\\hp\\Dropbox\\My PC (DESKTOP-PG6R28R)\\Desktop]\n",
      "25-01-2022  21:58            87,676 Document from Rupesh Kataria\n",
      "12-10-2021  08:36    <DIR>          Documents\n",
      "02-12-2020  22:03    <JUNCTION>     Downloads [\\??\\C:\\Users\\hp\\Dropbox\\My PC (DESKTOP-PG6R28R)\\Downloads]\n",
      "15-01-2022  00:04         3,027,466 Dragon.joblib\n",
      "04-12-2020  17:59    <DIR>          Dropbox\n",
      "28-05-2022  12:20    <DIR>          eclipse\n",
      "30-07-2021  17:12    <DIR>          eclipse-workspace\n",
      "30-11-2020  02:13    <DIR>          Favorites\n",
      "14-06-2022  15:03               356 for.py\n",
      "14-06-2022  15:47               443 function.py\n",
      "14-10-2021  06:06    <DIR>          Google Drive\n",
      "14-06-2022  12:56                54 hello.py\n",
      "14-06-2022  13:37               601 if.py\n",
      "14-01-2022  00:50                 0 jupyter\n",
      "17-01-2021  08:39    <DIR>          Links\n",
      "16-01-2022  18:29           310,550 MachineLearning5.ipynb\n",
      "14-06-2022  16:28                 0 mod\n",
      "15-01-2022  00:19             1,531 Model Usage.ipynb\n",
      "14-06-2022  16:29                 0 module.py\n",
      "20-02-2021  19:22    <DIR>          Music\n",
      "23-12-2021  21:19             1,148 new.html\n",
      "14-06-2022  16:29    <DIR>          nothing\n",
      "28-04-2022  21:36    <DIR>          OneDrive\n",
      "20-02-2021  19:22    <DIR>          Pictures\n",
      "09-06-2022  10:34    <DIR>          Postman\n",
      "13-01-2022  14:30    <DIR>          PycharmProjects\n",
      "14-06-2022  23:36    <DIR>          Rupesh\n",
      "30-11-2020  02:13    <DIR>          Saved Games\n",
      "03-12-2021  11:51    <DIR>          Searches\n",
      "09-03-2022  15:58            96,591 Time.ipynb\n",
      "09-03-2022  23:40           392,094 Time_Series_Data (2).ipynb\n",
      "09-03-2022  23:40           912,196 Time_series_per _warehouse.ipynb\n",
      "01-03-2022  02:17           206,874 Train_data.xlsx\n",
      "03-03-2022  10:37           146,113 Train_data.xlsx - Final.csv\n",
      "10-03-2022  00:05            45,754 unknown.ipynb\n",
      "15-01-2022  00:07                72 Untitled.ipynb\n",
      "25-01-2022  21:45             3,315 Untitled1.ipynb\n",
      "09-03-2022  23:59            18,929 Untitled10.ipynb\n",
      "15-06-2022  10:41            13,686 Untitled11.ipynb\n",
      "17-02-2022  09:22             1,478 Untitled2.ipynb\n",
      "22-02-2022  13:14             1,344 Untitled3.ipynb\n",
      "24-02-2022  12:14             3,138 Untitled4.ipynb\n",
      "01-03-2022  03:52            88,333 Untitled5-Copy1.ipynb\n",
      "01-03-2022  03:52            88,333 Untitled5.ipynb\n",
      "02-03-2022  23:04            25,194 Untitled6.ipynb\n",
      "03-03-2022  10:38               588 Untitled7.ipynb\n",
      "03-03-2022  10:46            58,063 Untitled8.ipynb\n",
      "03-03-2022  11:38            14,106 Untitled9.ipynb\n",
      "14-06-2022  12:44    <DIR>          venv\n",
      "27-03-2021  10:50    <DIR>          Videos\n",
      "09-03-2022  20:17           819,394 warehouse1.csv\n",
      "09-03-2022  20:18           738,401 warehouse2.csv\n",
      "09-03-2022  20:18           975,888 warehouse3.csv\n",
      "09-03-2022  20:19           906,260 warehouse4.csv\n",
      "29-07-2021  11:49    <DIR>          workspace\n",
      "14-06-2022  22:49    <DIR>          Z\n",
      "              43 File(s)      9,025,040 bytes\n",
      "              43 Dir(s)  293,243,207,680 bytes free\n"
     ]
    }
   ],
   "source": [
    "!dir    #another method to see file in our working directory same with !cd for see the working directory"
   ]
  },
  {
   "cell_type": "code",
   "execution_count": null,
   "id": "72da79a5",
   "metadata": {},
   "outputs": [],
   "source": []
  }
 ],
 "metadata": {
  "kernelspec": {
   "display_name": "Python 3 (ipykernel)",
   "language": "python",
   "name": "python3"
  },
  "language_info": {
   "codemirror_mode": {
    "name": "ipython",
    "version": 3
   },
   "file_extension": ".py",
   "mimetype": "text/x-python",
   "name": "python",
   "nbconvert_exporter": "python",
   "pygments_lexer": "ipython3",
   "version": "3.9.7"
  }
 },
 "nbformat": 4,
 "nbformat_minor": 5
}
