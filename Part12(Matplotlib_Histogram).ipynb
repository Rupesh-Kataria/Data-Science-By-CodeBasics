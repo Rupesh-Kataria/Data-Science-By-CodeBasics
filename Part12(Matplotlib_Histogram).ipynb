{
  "nbformat": 4,
  "nbformat_minor": 0,
  "metadata": {
    "colab": {
      "name": "Part12(Matplotlib Histogram).ipynb",
      "provenance": [],
      "authorship_tag": "ABX9TyOmGorAAhR9blfoEYZTy0r7",
      "include_colab_link": true
    },
    "kernelspec": {
      "name": "python3",
      "display_name": "Python 3"
    },
    "language_info": {
      "name": "python"
    }
  },
  "cells": [
    {
      "cell_type": "markdown",
      "metadata": {
        "id": "view-in-github",
        "colab_type": "text"
      },
      "source": [
        "<a href=\"https://colab.research.google.com/github/Rupesh-Kataria/Data-Science-By-CodeBasics/blob/main/Part12(Matplotlib_Histogram).ipynb\" target=\"_parent\"><img src=\"https://colab.research.google.com/assets/colab-badge.svg\" alt=\"Open In Colab\"/></a>"
      ]
    },
    {
      "cell_type": "code",
      "execution_count": 12,
      "metadata": {
        "id": "30Aj0mY6LFtq"
      },
      "outputs": [],
      "source": [
        "import matplotlib.pyplot as plt\n",
        "import numpy as np\n",
        "%matplotlib inline"
      ]
    },
    {
      "cell_type": "code",
      "source": [
        "company=['GOOGL','AMZN','MSFT','FB']\n",
        "revenue=[90,136,89,27]\n",
        "profit=[40,2,34,12]"
      ],
      "metadata": {
        "id": "xG02cYGxLT8c"
      },
      "execution_count": 13,
      "outputs": []
    },
    {
      "cell_type": "code",
      "source": [
        "ypos=np.arange(len(company))\n",
        "ypos"
      ],
      "metadata": {
        "colab": {
          "base_uri": "https://localhost:8080/"
        },
        "id": "iw2gSzCtLuJM",
        "outputId": "a2cf4d6a-d5b1-4e6a-ea83-2c5b312cc767"
      },
      "execution_count": 14,
      "outputs": [
        {
          "output_type": "execute_result",
          "data": {
            "text/plain": [
              "array([0, 1, 2, 3])"
            ]
          },
          "metadata": {},
          "execution_count": 14
        }
      ]
    },
    {
      "cell_type": "code",
      "source": [
        "plt.xticks(ypos,company) #now ypos is replaced with company name we do this because we cannot directly plot using company name which is a string\n",
        "plt.ylabel(\"revenue(bln)\")\n",
        "plt.title(\"US Tech Stocks\")\n",
        "plt.bar(ypos,revenue,label=\"Revenue\")\n",
        "plt.bar(ypos,profit,label=\"Profit\") #it is plotting the profit but it is plotting in the same chart .See the same bar containing profit and revenue both.The reason behind this is same x position for both of these\n",
        "plt.legend()"
      ],
      "metadata": {
        "colab": {
          "base_uri": "https://localhost:8080/",
          "height": 298
        },
        "id": "PzlgK09SL2df",
        "outputId": "c29089b3-0a43-4ebf-820e-95583e74d42f"
      },
      "execution_count": 15,
      "outputs": [
        {
          "output_type": "execute_result",
          "data": {
            "text/plain": [
              "<matplotlib.legend.Legend at 0x7fdfe712df90>"
            ]
          },
          "metadata": {},
          "execution_count": 15
        },
        {
          "output_type": "display_data",
          "data": {
            "text/plain": [
              "<Figure size 432x288 with 1 Axes>"
            ],
            "image/png": "[encoded data removed]"
          },
          "metadata": {
            "needs_background": "light"
          }
        }
      ]
    },
    {
      "cell_type": "code",
      "source": [
        "plt.xticks(ypos,company) #now ypos is replaced with company name we do this because we cannot directly plot using company name which is a string\n",
        "plt.ylabel(\"revenue(bln)\")\n",
        "plt.title(\"US Tech Stocks\")\n",
        "plt.bar(ypos-0.2,revenue,width=0.4,label=\"Revenue\") #Ater changing the x cordinate for revenue and profit\n",
        "plt.bar(ypos+0.2,profit,label=\"Profit\",width=0.4)\n",
        "plt.legend()"
      ],
      "metadata": {
        "colab": {
          "base_uri": "https://localhost:8080/",
          "height": 298
        },
        "id": "bubOKR_BOrUW",
        "outputId": "6c1a1278-e3a5-4f9e-b1da-3f8afdd866a4"
      },
      "execution_count": 17,
      "outputs": [
        {
          "output_type": "execute_result",
          "data": {
            "text/plain": [
              "<matplotlib.legend.Legend at 0x7fdfe704b750>"
            ]
          },
          "metadata": {},
          "execution_count": 17
        },
        {
          "output_type": "display_data",
          "data": {
            "text/plain": [
              "<Figure size 432x288 with 1 Axes>"
            ],
            "image/png": "[encoded data removed]"
          },
          "metadata": {
            "needs_background": "light"
          }
        }
      ]
    },
    {
      "cell_type": "code",
      "source": [
        "#To draw horizontal bar graph we use barh instead of bar and we need to change x ticks to y ticks and ylabel to xlabel\n",
        "plt.yticks(ypos,company) #now ypos is replaced with company name we do this because we cannot directly plot using company name which is a string\n",
        "plt.xlabel(\"revenue(bln)\")\n",
        "plt.title(\"US Tech Stocks\")\n",
        "plt.barh(ypos-0.2,revenue,label=\"Revenue\") #Ater changing the x cordinate for revenue and profit\n",
        "plt.barh(ypos+0.2,profit,label=\"Profit\")\n",
        "plt.legend()"
      ],
      "metadata": {
        "colab": {
          "base_uri": "https://localhost:8080/",
          "height": 312
        },
        "id": "50_hqkSlSlRm",
        "outputId": "3a0258dd-5940-43f9-e91a-e935295e0f8c"
      },
      "execution_count": 21,
      "outputs": [
        {
          "output_type": "execute_result",
          "data": {
            "text/plain": [
              "<matplotlib.legend.Legend at 0x7fdfe6e8f210>"
            ]
          },
          "metadata": {},
          "execution_count": 21
        },
        {
          "output_type": "display_data",
          "data": {
            "text/plain": [
              "<Figure size 432x288 with 1 Axes>"
            ],
            "image/png": "[encoded data removed]"
          },
          "metadata": {
            "needs_background": "light"
          }
        }
      ]
    }
  ]
}